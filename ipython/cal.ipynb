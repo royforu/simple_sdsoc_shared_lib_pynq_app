{
 "cells": [
  {
   "cell_type": "code",
   "execution_count": null,
   "metadata": {
    "scrolled": true
   },
   "outputs": [],
   "source": [
    " \"\"\"This class use ctypes loadlibrary .\n",
    "   \n",
    "    \"\"\"\n",
    "from pynq import DefaultIP\n",
    "import ctypes\n",
    "import os\n",
    "class AddDriver(DefaultIP):\n",
    "    def __ini__(self, description):\n",
    "        super().__ini__(description=description)\n",
    "        print('xyz')\n",
    "    bindto = ['xilinx.com:hls:add_accel:1.0']    \n",
    "    \n",
    "    def cal(self,a,b):\n",
    "        c = self.lib._Z9add_accelii(a,b)\n",
    "        return c\n",
    "    def loadlib(self):\n",
    "        print('open2')\n",
    "       # print(os.path.join(BNN_LIB_DIR,dllname))\n",
    "        self.lib = ctypes.cdll.LoadLibrary(\"/home/xilinx/pynq-z2/addlib/libaddlib2.so\")\n",
    "        print(self.lib)\n",
    "        print('open ok')\n",
    "       \n",
    "       "
   ]
  },
  {
   "cell_type": "code",
   "execution_count": null,
   "metadata": {},
   "outputs": [],
   "source": [
    "from pynq import Overlay\n",
    "import os   \n",
    "from pynq import Bitstream\n",
    "import numpy as np\n",
    "from pynq import allocate\n",
    "\n",
    "ov1 = Overlay('/home/xilinx/pynq-z2/addlib/addlib.bit')"
   ]
  },
  {
   "cell_type": "code",
   "execution_count": null,
   "metadata": {},
   "outputs": [],
   "source": [
    "ov1.add_accel_0.loadlib()"
   ]
  },
  {
   "cell_type": "code",
   "execution_count": null,
   "metadata": {},
   "outputs": [],
   "source": [
    "\"\"\"ch: 1-add, 2-sub, 3-mul\n",
    "\"\"\"\n",
    "ov1.add_accel_0.cal(44,44)"
   ]
  },
  {
   "cell_type": "code",
   "execution_count": null,
   "metadata": {},
   "outputs": [],
   "source": [
    "from pprint import pprint\n",
    "pprint(ov1.ip_dict)\n",
    "\n",
    "\n",
    "\n",
    "\n",
    "   \n"
   ]
  },
  {
   "cell_type": "code",
   "execution_count": null,
   "metadata": {},
   "outputs": [],
   "source": [
    "import os\n",
    "import sys\n",
    "import cffi\n",
    "import signal\n",
    "import platform\n",
    "print(os.environ['PATH']);"
   ]
  },
  {
   "cell_type": "code",
   "execution_count": null,
   "metadata": {},
   "outputs": [],
   "source": [
    "print(os.environ['LD_LIBRARY_PATH'])"
   ]
  },
  {
   "cell_type": "code",
   "execution_count": 1,
   "metadata": {},
   "outputs": [
    {
     "data": {
      "application/javascript": [
       "\n",
       "require(['notebook/js/codecell'], function(codecell) {\n",
       "  codecell.CodeCell.options_default.highlight_modes[\n",
       "      'magic_text/x-csrc'] = {'reg':[/^%%microblaze/]};\n",
       "  Jupyter.notebook.events.one('kernel_ready.Kernel', function(){\n",
       "      Jupyter.notebook.get_cells().map(function(cell){\n",
       "          if (cell.cell_type == 'code'){ cell.auto_highlight(); } }) ;\n",
       "  });\n",
       "});\n"
      ]
     },
     "metadata": {},
     "output_type": "display_data"
    },
    {
     "name": "stdout",
     "output_type": "stream",
     "text": [
      "bind\n"
     ]
    }
   ],
   "source": [
    " \"\"\"This class use cffi extension c module _test.\n",
    "   \n",
    "    \"\"\"\n",
    "from pynq import DefaultIP\n",
    "from _test import ffi, lib\n",
    "import os\n",
    "\n",
    "class test(DefaultIP):\n",
    "    def __ini__(self, description):\n",
    "        super().__ini__(description=description)\n",
    "        \n",
    "    bindto = ['xilinx.com:hls:add_accel:1.0']    \n",
    "    print('bind')\n",
    "    def cal(self,a,b):\n",
    "        c = lib._Z9add_accelii(a,b)\n",
    "        return c\n",
    "    \n",
    "\n",
    "\n",
    "\n",
    "       \n",
    "       "
   ]
  },
  {
   "cell_type": "code",
   "execution_count": null,
   "metadata": {},
   "outputs": [],
   "source": []
  },
  {
   "cell_type": "code",
   "execution_count": 2,
   "metadata": {},
   "outputs": [],
   "source": [
    "from pynq import Overlay\n",
    "import os   \n",
    "from pynq import Bitstream\n",
    "import numpy as np\n",
    "from pynq import allocate\n",
    "\n",
    "ov1 = Overlay('/home/xilinx/pynq-z2/addlib/addlib.bit')"
   ]
  },
  {
   "cell_type": "code",
   "execution_count": 3,
   "metadata": {},
   "outputs": [
    {
     "data": {
      "text/plain": [
       "33"
      ]
     },
     "execution_count": 3,
     "metadata": {},
     "output_type": "execute_result"
    }
   ],
   "source": [
    "ov1.add_accel_0.cal(11,22)"
   ]
  },
  {
   "cell_type": "code",
   "execution_count": null,
   "metadata": {},
   "outputs": [],
   "source": []
  }
 ],
 "metadata": {
  "kernelspec": {
   "display_name": "Python 3",
   "language": "python",
   "name": "python3"
  },
  "language_info": {
   "codemirror_mode": {
    "name": "ipython",
    "version": 3
   },
   "file_extension": ".py",
   "mimetype": "text/x-python",
   "name": "python",
   "nbconvert_exporter": "python",
   "pygments_lexer": "ipython3",
   "version": "3.6.5"
  }
 },
 "nbformat": 4,
 "nbformat_minor": 2
}
